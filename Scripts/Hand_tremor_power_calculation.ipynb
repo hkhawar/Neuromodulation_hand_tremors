{
 "cells": [
  {
   "cell_type": "code",
   "execution_count": 10,
   "metadata": {},
   "outputs": [],
   "source": [
    "import pandas as pd\n",
    "import os\n",
    "import numpy as np\n",
    "from pathlib import Path\n",
    "import matplotlib.pyplot as plt\n",
    "import csv\n",
    "from datetime import datetime\n",
    "from plotnine import *\n",
    "from src.functions_utils import *\n"
   ]
  },
  {
   "cell_type": "markdown",
   "metadata": {},
   "source": [
    "### Defining paths"
   ]
  },
  {
   "cell_type": "code",
   "execution_count": 2,
   "metadata": {},
   "outputs": [],
   "source": [
    "\n",
    "currdir= Path(os.path.join('..', os.getcwd()))\n",
    "path = str(currdir.parent)\n",
    "\n"
   ]
  },
  {
   "cell_type": "markdown",
   "metadata": {},
   "source": [
    "### Creating Figures directory"
   ]
  },
  {
   "cell_type": "code",
   "execution_count": 3,
   "metadata": {},
   "outputs": [
    {
     "name": "stdout",
     "output_type": "stream",
     "text": [
      "Directory already existed\n"
     ]
    }
   ],
   "source": [
    "figpath = os.path.join(path, 'Figures')\n",
    "\n",
    "def makedirectory():\n",
    "    \n",
    "    if not os.path.exists(figpath):\n",
    "        \n",
    "        print(\"path doesnot exist\")\n",
    "        \n",
    "        figout = os.makedirs(figpath)\n",
    "        \n",
    "        print(\"Figure directory is created\")\n",
    "        \n",
    "        return figout\n",
    "    \n",
    "    else:\n",
    "        \n",
    "        print(\"Directory already existed\")\n",
    "        \n",
    "        return None\n",
    "    \n",
    "figout = makedirectory()\n"
   ]
  },
  {
   "cell_type": "markdown",
   "metadata": {},
   "source": [
    "## Loading Data files"
   ]
  },
  {
   "cell_type": "code",
   "execution_count": 4,
   "metadata": {},
   "outputs": [],
   "source": [
    "\n",
    "class load_data:\n",
    "    \n",
    "    \n",
    "    def __init__(self,path):\n",
    "        \n",
    "        self.path = path\n",
    "        \n",
    "        \n",
    "    def patients_data(self):\n",
    "        \n",
    "        lst = [d for d, subdir, files in os.walk(self.path, topdown=True)]\n",
    "\n",
    "        filepath = [x for x in lst if len(x) == max([len(x) for x in lst])]\n",
    "\n",
    "        return filepath\n",
    "    \n",
    "    \n",
    "\n",
    "## Calling functions\n",
    "    \n",
    "        \n",
    "subclass = load_data(path)   \n",
    "\n",
    "patients_data = subclass.patients_data()\n",
    "\n"
   ]
  },
  {
   "cell_type": "markdown",
   "metadata": {},
   "source": [
    "## Patient data\n",
    "\n",
    "\n"
   ]
  },
  {
   "cell_type": "markdown",
   "metadata": {},
   "source": [
    "### First performing data cleaning and import call files belong to Pre stimulus and Post stimulus Session"
   ]
  },
  {
   "cell_type": "code",
   "execution_count": 5,
   "metadata": {},
   "outputs": [],
   "source": [
    "def merged_patient_data(patients_data):\n",
    "    \n",
    "    \n",
    "    ''' patient_data: list of folder path'''\n",
    "\n",
    "    \n",
    "    merged_data= []\n",
    "    \n",
    "    for p in patients_data:\n",
    "        \n",
    "        prf = filtering_calfiles(p)\n",
    "    \n",
    "        pf = data_extraction(prf)[0]\n",
    "\n",
    "        ## Extracting Patient folder name\n",
    "\n",
    "        pf['Patient'] = pf.apply(get_foldernames, axis=1)\n",
    "\n",
    "        psd = PSD_calculation(pf)\n",
    "\n",
    "        merged_data.append(psd)\n",
    "\n",
    "    \n",
    "    merged_df = pd.concat(merged_data)\n",
    "    \n",
    "    return merged_df\n",
    "\n",
    "\n",
    "merged_df = merged_patient_data(patients_data)\n",
    "\n",
    "\n"
   ]
  },
  {
   "cell_type": "markdown",
   "metadata": {},
   "source": [
    "\n",
    "## Plotting patient individually"
   ]
  },
  {
   "cell_type": "code",
   "execution_count": 8,
   "metadata": {},
   "outputs": [
    {
     "name": "stderr",
     "output_type": "stream",
     "text": [
      "/Users/habbasi/plotnine/plotnine/scales/scale.py:91: PlotnineWarning: scale_color_manual could not recognise parameter `names`\n",
      "/Users/habbasi/plotnine/plotnine/ggplot.py:729: PlotnineWarning: Saving 8 x 6 in image.\n",
      "/Users/habbasi/plotnine/plotnine/ggplot.py:730: PlotnineWarning: Filename: /Users/habbasi/Desktop/Interview_Data Analysis_Test_Set/Figures/patient_folder_0.png\n",
      "/Users/habbasi/plotnine/plotnine/scales/scale.py:91: PlotnineWarning: scale_color_manual could not recognise parameter `names`\n",
      "/Users/habbasi/plotnine/plotnine/ggplot.py:729: PlotnineWarning: Saving 8 x 6 in image.\n",
      "/Users/habbasi/plotnine/plotnine/ggplot.py:730: PlotnineWarning: Filename: /Users/habbasi/Desktop/Interview_Data Analysis_Test_Set/Figures/patient_folder_1.png\n",
      "/Users/habbasi/plotnine/plotnine/scales/scale.py:91: PlotnineWarning: scale_color_manual could not recognise parameter `names`\n",
      "/Users/habbasi/plotnine/plotnine/ggplot.py:729: PlotnineWarning: Saving 8 x 6 in image.\n",
      "/Users/habbasi/plotnine/plotnine/ggplot.py:730: PlotnineWarning: Filename: /Users/habbasi/Desktop/Interview_Data Analysis_Test_Set/Figures/patient_folder_2.png\n"
     ]
    }
   ],
   "source": [
    "def plotting_patient_individually(merged_df):\n",
    "    \n",
    "    for i, p in enumerate (merged_df.Patient.unique()):\n",
    "\n",
    "        tp = merged_df[merged_df['Patient'] == str(p)]\n",
    "\n",
    "        pre_ST_idx = tp.query(\"type == '124'\")['PSD_mean'].idxmax()\n",
    "\n",
    "        post_ST_idx = tp.query(\"type == '125'\")['PSD_mean'].idxmax()\n",
    "\n",
    "        preST_peak = tp['freq'][pre_ST_idx]\n",
    "\n",
    "        postST_peak = tp['freq'][post_ST_idx]\n",
    "\n",
    "        patient_folder = tp['Patient'][0]   \n",
    "\n",
    "            # Plotting\n",
    "\n",
    "        g = (ggplot(tp, aes(x='freq', y='PSD_mean', color='ST')) \n",
    "             + geom_line()\n",
    "             + theme_bw() \n",
    "             + theme(figure_size=(8, 6))\n",
    "             + geom_vline(xintercept=[preST_peak, postST_peak],\n",
    "                         colour=['#3690c0', '#ef3b2c'],\n",
    "                         size=[0.8, 1],\n",
    "                         linetype=\"dotted\")\n",
    "             + annotate(\"text\", label = \"Pre-ST:  \" + str(preST_peak) + 'HZ', color=\"#3690c0\", size = 12, x = 9, y = 7)\n",
    "             + annotate(\"text\", label = \"Post-ST:  \" + str(postST_peak) + 'HZ', color=\"#ef3b2c\", size = 12, x = 9, y = 6)\n",
    "             + labs(x='Frequency (Hz)', y='Power Spectral Density (DBM/Hz)')\n",
    "             + ggtitle(\"Hand Tremor data: \" + patient_folder) \n",
    "             + scale_colour_manual(names=['Pre-S', 'Post-ST'],\n",
    "                                  values=[\"#ef3b2c\",\"#3690c0\"])\n",
    "             + guides(color=guide_legend(title=\"Stimulus Session\"))\n",
    "\n",
    "            )\n",
    "\n",
    "        ggsave(filename='patient_folder_'+str(i) + '.png', plot = g, path = figpath)\n",
    "\n",
    "\n",
    "    \n",
    "    \n",
    "    return \n",
    "    \n",
    "\n",
    "    \n",
    "plotting_patient_individually(merged_df)\n",
    "        \n",
    "    \n",
    "    \n",
    "  \n",
    "    \n",
    "    \n",
    "\n",
    "\n",
    "\n",
    "    \n"
   ]
  },
  {
   "cell_type": "markdown",
   "metadata": {},
   "source": [
    "\n",
    "## Plotting all patient"
   ]
  },
  {
   "cell_type": "code",
   "execution_count": 9,
   "metadata": {},
   "outputs": [
    {
     "name": "stderr",
     "output_type": "stream",
     "text": [
      "/Users/habbasi/plotnine/plotnine/scales/scale.py:91: PlotnineWarning: scale_color_manual could not recognise parameter `names`\n",
      "/Users/habbasi/plotnine/plotnine/ggplot.py:729: PlotnineWarning: Saving 8 x 6 in image.\n",
      "/Users/habbasi/plotnine/plotnine/ggplot.py:730: PlotnineWarning: Filename: /Users/habbasi/Desktop/Interview_Data Analysis_Test_Set/Figures/Mean_Patient_tremor_power.png\n"
     ]
    }
   ],
   "source": [
    "\n",
    "def plotting_patient_all(merged_df):\n",
    "    \n",
    "    ## aggregating Power for all patient\n",
    "    \n",
    "    tp = (merged_df.groupby(['freq', 'type', 'ST'])\n",
    "           .agg({'PSD_mean': 'mean'})\n",
    "           .reset_index()\n",
    "           \n",
    "          )\n",
    "\n",
    "    pre_ST_idx = tp.query(\"type == '124'\")['PSD_mean'].idxmax()\n",
    "\n",
    "    post_ST_idx = tp.query(\"type == '125'\")['PSD_mean'].idxmax()\n",
    "\n",
    "    preST_peak = tp['freq'][pre_ST_idx]\n",
    "\n",
    "    postST_peak = tp['freq'][post_ST_idx]\n",
    " \n",
    "\n",
    "        # Plotting\n",
    "\n",
    "    g = (ggplot(tp, aes(x='freq', y='PSD_mean', color='ST')) \n",
    "         + geom_line()\n",
    "         + theme_bw() \n",
    "         + theme(figure_size=(8, 6))\n",
    "         + geom_vline(xintercept=[preST_peak, postST_peak],\n",
    "                     colour=['#3690c0', '#ef3b2c'],\n",
    "                     size=[0.8, 1],\n",
    "                     linetype=\"dotted\")\n",
    "         + annotate(\"text\", label = \"Pre-ST:  \" + str(preST_peak) + 'HZ', color=\"#3690c0\", size = 12, x = 9, y = 7)\n",
    "         + annotate(\"text\", label = \"Post-ST:  \" + str(postST_peak) + 'HZ', color=\"#ef3b2c\", size = 12, x = 9, y = 6)\n",
    "         + labs(x='Frequency (Hz)', y='Power Spectral Density (DBM/Hz)')\n",
    "         + ggtitle(\"Hand Tremor data of all three Patients\") \n",
    "         + scale_colour_manual(names=['Pre-S', 'Post-ST'],\n",
    "                              values=[\"#ef3b2c\",\"#3690c0\"])\n",
    "         + guides(color=guide_legend(title=\"Stimulus Session\"))\n",
    "\n",
    "        )\n",
    "\n",
    "    ggsave(filename='Mean_Patient_tremor_power.png', plot = g, path = figpath)\n",
    "\n",
    "\n",
    "    \n",
    "    \n",
    "    return \n",
    "    \n",
    "\n",
    "    \n",
    "plotting_patient_all(merged_df)\n",
    "        \n",
    "    "
   ]
  },
  {
   "cell_type": "code",
   "execution_count": null,
   "metadata": {},
   "outputs": [],
   "source": []
  }
 ],
 "metadata": {
  "kernelspec": {
   "display_name": "Python 3",
   "language": "python",
   "name": "python3"
  },
  "language_info": {
   "codemirror_mode": {
    "name": "ipython",
    "version": 3
   },
   "file_extension": ".py",
   "mimetype": "text/x-python",
   "name": "python",
   "nbconvert_exporter": "python",
   "pygments_lexer": "ipython3",
   "version": "3.7.6"
  }
 },
 "nbformat": 4,
 "nbformat_minor": 4
}
